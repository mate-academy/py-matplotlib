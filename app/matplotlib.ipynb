{
 "cells": [
  {
   "cell_type": "markdown",
   "source": [
    "# Matplotlib"
   ],
   "metadata": {
    "collapsed": false
   }
  },
  {
   "cell_type": "code",
   "source": [
    "import matplotlib.pyplot as plt\n",
    "import numpy as np\n",
    "import pandas as pd\n",
    "\n",
    "%matplotlib inline"
   ],
   "metadata": {
    "collapsed": false
   },
   "outputs": [],
   "execution_count": null
  },
  {
   "cell_type": "markdown",
   "source": [
    "# Task 1 Line plot\n",
    "\n",
    "You have lists of `years` and `population`, complete the following tasks:\n",
    "* create a line plot;\n",
    "* set the title and labels for x and y axis;\n",
    "* set the title for the plot;\n",
    "* show it.\n",
    "\n",
    "> Please, note: you can get more information about line plot [here](https://matplotlib.org/stable/api/_as_gen/matplotlib.pyplot.plot.html)."
   ],
   "metadata": {
    "collapsed": false
   }
  },
  {
   "cell_type": "code",
   "metadata": {
    "collapsed": true
   },
   "source": [
    "years = [2015, 2016, 2017, 2018, 2019]\n",
    "population = [100, 120, 150, 180, 200]\n",
    "\n",
    "plt.figure(figsize=(12, 6))\n",
    "\n",
    "plt.title(\"Population\")\n",
    "plt.xlabel(\"Year\")\n",
    "plt.ylabel(\"Population\")\n",
    "\n",
    "plt.plot(years, population)"
   ],
   "outputs": [],
   "execution_count": null
  },
  {
   "cell_type": "markdown",
   "source": [
    "# Task 2 Scatter plot\n",
    "\n",
    "You have random data for `x` and `y`. Also, you have random `colors` and `sizes` for each point.\n",
    "\n",
    "Complete the following tasks:\n",
    "* create a scatter plot;\n",
    "* fill the plot with colors;\n",
    "* fill the plot with sizes;\n",
    "* set the title and labels for x and y axis;\n",
    "* set the colorbar label;\n",
    "* show it.\n",
    "\n",
    "> Please, note: you can get more information about scatter plot [here](https://matplotlib.org/stable/api/_as_gen/matplotlib.pyplot.scatter.html)."
   ],
   "metadata": {
    "collapsed": false
   }
  },
  {
   "cell_type": "code",
   "source": [
    "x = np.random.rand(50)\n",
    "y = np.random.rand(50)\n",
    "colors = np.random.rand(50)\n",
    "sizes = 100 * np.random.rand(50)\n",
    "\n",
    "plt.figure(figsize=(12, 6))\n",
    "\n",
    "scatter = plt.scatter(x, y, c=colors, s=sizes)\n",
    "\n",
    "colorbar = plt.colorbar(scatter)\n",
    "colorbar.set_label(\"Color Intensity\")"
   ],
   "metadata": {
    "collapsed": false
   },
   "outputs": [],
   "execution_count": null
  },
  {
   "cell_type": "markdown",
   "source": [
    "# Task 3 Bar plot\n",
    "\n",
    "You have lists of `categories` and `sales`, complete the following tasks:\n",
    "* create a bar plot;\n",
    "* set the title and labels for x and y axis;\n",
    "* rate the x ticks by 45 degrees;\n",
    "* show it.\n",
    "\n",
    "> Please, note: you can get more information about bar plot [here](https://matplotlib.org/stable/api/_as_gen/matplotlib.pyplot.bar.html)."
   ],
   "metadata": {
    "collapsed": false
   }
  },
  {
   "cell_type": "code",
   "source": [
    "categories = [\"Category A\", \"Category B\", \"Category C\", \"Category D\"]\n",
    "sales = [350, 480, 210, 590]\n",
    "\n",
    "plt.bar(categories, sales)\n",
    "\n",
    "plt.title(\"Sales by Category\")\n",
    "plt.xlabel(\"Categories\")\n",
    "plt.ylabel(\"Sales\")\n",
    "\n",
    "plt.xticks(rotation=45)"
   ],
   "metadata": {
    "collapsed": false
   },
   "outputs": [],
   "execution_count": null
  },
  {
   "cell_type": "markdown",
   "source": [
    "# Task 4 Histogram\n",
    "\n",
    "You have randomly generated data, complete the following tasks:\n",
    "\n",
    "* create a histogram;\n",
    "* set the title and labels for x and y axis;\n",
    "* make bins size not so wide;\n",
    "* show it.\n",
    "\n",
    "> Please, note: you can get more information about histogram [here](https://matplotlib.org/stable/api/_as_gen/matplotlib.pyplot.hist.html)."
   ],
   "metadata": {
    "collapsed": false
   }
  },
  {
   "cell_type": "code",
   "source": [
    "data = np.random.normal(0, 1, 1000)\n",
    "\n",
    "plt.hist(data, bins=50)\n",
    "\n",
    "plt.title(\"Data\")\n",
    "plt.xlabel(\"X axis\")\n",
    "plt.ylabel(\"Y axis\")"
   ],
   "metadata": {
    "collapsed": false
   },
   "outputs": [],
   "execution_count": null
  },
  {
   "cell_type": "markdown",
   "source": [
    "# Task 5 Pie plot\n",
    "\n",
    "You have lists of `labels` and `market_share`, complete the following tasks:\n",
    "* create a pie plot;\n",
    "* set the title;\n",
    "* make numbers in format like `10.0%`;\n",
    "* set the start angle for better view;\n",
    "* show it.\n",
    "\n",
    "> Please, note: you can get more information about pie plot [here](https://matplotlib.org/stable/gallery/pie_and_polar_charts/pie_features.html)."
   ],
   "metadata": {
    "collapsed": false
   }
  },
  {
   "cell_type": "code",
   "source": [
    "labels = [\"Product A\", \"Product B\", \"Product C\", \"Product D\"]\n",
    "market_share = [30, 20, 15, 35]\n",
    "\n",
    "plt.pie(market_share, labels=labels, autopct=\"%10.0f%%\", startangle=0)\n",
    "\n",
    "plt.title(\"Pie plot\")\n"
   ],
   "metadata": {
    "collapsed": false
   },
   "outputs": [],
   "execution_count": null
  },
  {
   "cell_type": "markdown",
   "source": [
    "# Task 6 Subplots\n",
    "\n",
    "You have sin and cos functions, complete the following tasks:\n",
    "\n",
    "* create a figure with 2 subplots;\n",
    "* plot sin function in the first subplot;\n",
    "* plot cos function in the second subplot;\n",
    "* set the title and labels for x and y axis for each subplot;\n",
    "* set the title for the figure;\n",
    "* set different colors for each plot;\n",
    "* show it horizontally.\n",
    "\n",
    "> PLease, note: you can get more information about subplots [here](https://matplotlib.org/stable/gallery/subplots_axes_and_figures/subplots_demo.html)."
   ],
   "metadata": {
    "collapsed": false
   }
  },
  {
   "cell_type": "code",
   "source": [
    "x = np.linspace(0, 5, 100)\n",
    "y1 = np.sin(x)\n",
    "y2 = np.cos(x)\n",
    "\n",
    "fig, ax = plt.subplots(1, 2, figsize=(12, 6))\n",
    "\n",
    "fig.suptitle(\"Subplots\")\n",
    "\n",
    "ax[0].plot(x, y1, color=\"blue\")\n",
    "ax[0].set_title(\"Sine Function\")\n",
    "ax[0].set_xlabel(\"X Axis\")\n",
    "ax[0].set_ylabel(\"Y Axis\")\n",
    "\n",
    "ax[1].plot(x, y2, color=\"yellow\")\n",
    "ax[1].set_title(\"Cosine Function\")\n",
    "ax[1].set_xlabel(\"X Axis\")\n",
    "ax[1].set_ylabel(\"Y Axis\")\n",
    "\n",
    "plt.tight_layout(rect=[0, 0, 1, 0.95])"
   ],
   "metadata": {
    "collapsed": false
   },
   "outputs": [],
   "execution_count": null
  },
  {
   "cell_type": "markdown",
   "source": [
    "# Task 7 Time Series\n",
    "\n",
    "You have prepared data for time series, complete the following tasks:\n",
    "\n",
    "* create a line plot;\n",
    "* set the title and labels for x and y axis;\n",
    "* rotate x ticks by 45 degrees;\n",
    "* show it.\n",
    "\n",
    "> Please, note: you can get more information about time series [here](https://pandas.pydata.org/pandas-docs/stable/user_guide/timeseries.html)."
   ],
   "metadata": {
    "collapsed": false
   }
  },
  {
   "cell_type": "code",
   "source": [
    "dates = pd.date_range(\"2023-01-01\", \"2023-12-31\", freq=\"D\")\n",
    "values = pd.Series(range(len(dates)), index=dates)\n",
    "\n",
    "plt.plot(values.index, values.values, marker=\"o\", linestyle=\"-\")\n",
    "\n",
    "plt.title(\"Time Series Data Example\")\n",
    "plt.xlabel(\"Date\")\n",
    "plt.ylabel(\"Value\")\n",
    "\n",
    "plt.xticks(rotation=45)\n",
    "\n",
    "plt.tight_layout()"
   ],
   "metadata": {
    "collapsed": false
   },
   "outputs": [],
   "execution_count": null
  },
  {
   "cell_type": "markdown",
   "source": [
    "# (Optional) Task 8 Surface 3D Plot\n",
    "\n",
    "You have prepared data for 3D surface plot, complete the following tasks:\n",
    "* create a figure;\n",
    "* add a subplot for 3D surface plot;\n",
    "* plot the surface, `cmap` can be `viridis`;\n",
    "* set the title and labels for x, y and z axis;\n",
    "* show it.\n",
    "\n",
    "> Please, note: you can get more information about 3D surface plot [here](https://matplotlib.org/stable/gallery/mplot3d/surface3d.html)."
   ],
   "metadata": {
    "collapsed": false
   }
  },
  {
   "cell_type": "code",
   "source": [
    "x = np.linspace(-5, 5, 100)\n",
    "y = np.linspace(-5, 5, 100)\n",
    "X, Y = np.meshgrid(x, y)\n",
    "Z = X**2 + Y**2\n",
    "\n",
    "fig = plt.figure(figsize=(10, 8))\n",
    "\n",
    "ax = fig.add_subplot(111, projection=\"3d\")\n",
    "\n",
    "surf = ax.plot_surface(X, Y, Z, cmap=\"viridis\", linewidth=0, antialiased=False)\n",
    "ax.zaxis.set_major_formatter('{x:.01f}')\n",
    "\n",
    "fig.colorbar(surf, shrink=0.5, aspect=10)"
   ],
   "metadata": {
    "collapsed": false
   },
   "outputs": [],
   "execution_count": null
  },
  {
   "cell_type": "markdown",
   "source": [
    "# (Optional) Task 9\n",
    "\n",
    "You are working for a retail company that wants to understand its customer base better. The company has collected various demographic and purchasing behavior data for a sample of customers. Your task is to create a scatter plot matrix to visualize the relationships between different variables and identify potential customer segments based on their characteristics. The scatter plot matrix will allow you to observe the pairwise relationships between multiple variables simultaneously.\n",
    "\n",
    "> Please, note: you can find the file with data in the `data` folder."
   ],
   "metadata": {
    "collapsed": false
   }
  },
  {
   "cell_type": "code",
   "source": [
    "import seaborn as sns\n",
    "\n",
    "file_path = \"../data/customer_data.csv\"\n",
    "data = pd.read_csv(file_path)\n",
    "\n",
    "print(data.head())\n",
    "\n",
    "sns.pairplot(data, diag_kind=\"kde\", markers=\"o\", plot_kws={\"alpha\": 0.5})\n",
    "\n",
    "plt.suptitle(\"Scatter Plot Matrix of Customer Demographics and Behavior\", y=1.02)"
   ],
   "metadata": {
    "collapsed": false
   },
   "outputs": [],
   "execution_count": null
  }
 ],
 "metadata": {
  "kernelspec": {
   "display_name": "Python 3",
   "language": "python",
   "name": "python3"
  },
  "language_info": {
   "codemirror_mode": {
    "name": "ipython",
    "version": 2
   },
   "file_extension": ".py",
   "mimetype": "text/x-python",
   "name": "python",
   "nbconvert_exporter": "python",
   "pygments_lexer": "ipython2",
   "version": "2.7.6"
  }
 },
 "nbformat": 4,
 "nbformat_minor": 0
}
