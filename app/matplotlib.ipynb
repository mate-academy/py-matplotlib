{
 "cells": [
  {
   "cell_type": "markdown",
   "metadata": {
    "collapsed": false,
    "jupyter": {
     "outputs_hidden": false
    }
   },
   "source": [
    "# Matplotlib"
   ]
  },
  {
   "cell_type": "code",
   "execution_count": null,
   "metadata": {
    "ExecuteTime": {
     "end_time": "2023-07-07T13:10:24.836233Z",
     "start_time": "2023-07-07T13:10:24.614382Z"
    },
    "collapsed": false,
    "jupyter": {
     "outputs_hidden": false
    }
   },
   "outputs": [],
   "source": [
    "import numpy as np\n",
    "import pandas as pd\n",
    "import matplotlib.pyplot as plt\n",
    "\n",
    "%matplotlib inline"
   ]
  },
  {
   "cell_type": "markdown",
   "metadata": {
    "collapsed": false,
    "jupyter": {
     "outputs_hidden": false
    }
   },
   "source": [
    "# Task 1 Line plot\n",
    "\n",
    "You have lists of `years` and `population`, complete the following tasks:\n",
    "* create a line plot;\n",
    "* set the title and labels for x and y axis;\n",
    "* set the title for the plot;\n",
    "* show it.\n",
    "\n",
    "> Please, note: you can get more information about line plot [here](https://matplotlib.org/stable/api/_as_gen/matplotlib.pyplot.plot.html)."
   ]
  },
  {
   "cell_type": "code",
   "execution_count": null,
   "metadata": {
    "ExecuteTime": {
     "end_time": "2023-07-07T12:36:31.669207Z",
     "start_time": "2023-07-07T12:36:31.661449Z"
    },
    "scrolled": true
   },
   "outputs": [],
   "source": [
    "years = [2015, 2016, 2017, 2018, 2019]\n",
    "population = [100, 120, 150, 180, 200]\n",
    "\n",
    "plt.plot(years, population)\n",
    "plt.xlabel(\"Year\")\n",
    "plt.ylabel(\"Population\")\n",
    "plt.title(\"Population Growth\")\n",
    "plt.show()\n"
   ]
  },
  {
   "cell_type": "markdown",
   "metadata": {
    "collapsed": false,
    "jupyter": {
     "outputs_hidden": false
    }
   },
   "source": [
    "# Task 2 Scatter plot\n",
    "\n",
    "You have random data for `x` and `y`. Also, you have random `colors` and `sizes` for each point.\n",
    "\n",
    "Complete the following tasks:\n",
    "* create a scatter plot;\n",
    "* fill the plot with colors;\n",
    "* fill the plot with sizes;\n",
    "* set the title and labels for x and y axis;\n",
    "* set the colorbar label;\n",
    "* show it.\n",
    "\n",
    "> Please, note: you can get more information about scatter plot [here](https://matplotlib.org/stable/api/_as_gen/matplotlib.pyplot.scatter.html)."
   ]
  },
  {
   "cell_type": "code",
   "execution_count": null,
   "metadata": {
    "ExecuteTime": {
     "end_time": "2023-07-07T12:47:34.656048Z",
     "start_time": "2023-07-07T12:47:34.642774Z"
    },
    "collapsed": false,
    "jupyter": {
     "outputs_hidden": false
    }
   },
   "outputs": [],
   "source": [
    "x = np.random.rand(50)\n",
    "y = np.random.rand(50)\n",
    "colors = np.random.rand(50)\n",
    "sizes = 100 * np.random.rand(50)\n",
    "\n",
    "plt.scatter(x, y, c=colors, s=sizes, label=colors)\n",
    "plt.title(\"Scatter Plot\")\n",
    "plt.xlabel(\"x-axis\")\n",
    "plt.ylabel(\"y-axis\")\n",
    "plt.colorbar(label=\"Colorbar\")\n",
    "plt.show()"
   ]
  },
  {
   "cell_type": "markdown",
   "metadata": {
    "collapsed": false,
    "jupyter": {
     "outputs_hidden": false
    }
   },
   "source": [
    "# Task 3 Bar plot\n",
    "\n",
    "You have lists of `categories` and `sales`, complete the following tasks:\n",
    "* create a bar plot;\n",
    "* set the title and labels for x and y axis;\n",
    "* rate the x ticks by 45 degrees;\n",
    "* show it.\n",
    "\n",
    "> Please, note: you can get more information about bar plot [here](https://matplotlib.org/stable/api/_as_gen/matplotlib.pyplot.bar.html)."
   ]
  },
  {
   "cell_type": "code",
   "execution_count": null,
   "metadata": {
    "ExecuteTime": {
     "end_time": "2023-07-07T12:49:12.735444Z",
     "start_time": "2023-07-07T12:49:12.724986Z"
    },
    "collapsed": false,
    "jupyter": {
     "outputs_hidden": false
    }
   },
   "outputs": [],
   "source": [
    "categories = [\"Category A\", \"Category B\", \"Category C\", \"Category D\"]\n",
    "sales = [350, 480, 210, 590]\n",
    "\n",
    "plt.bar(categories, sales)\n",
    "plt.title(\"Bar Chart\")\n",
    "plt.xlabel(\"Categories\")\n",
    "plt.ylabel(\"Sales\")\n",
    "plt.xticks(rotation=45)\n",
    "plt.show()"
   ]
  },
  {
   "cell_type": "markdown",
   "metadata": {
    "collapsed": false,
    "jupyter": {
     "outputs_hidden": false
    }
   },
   "source": [
    "# Task 4 Histogram\n",
    "\n",
    "You have randomly generated data, complete the following tasks:\n",
    "\n",
    "* create a histogram;\n",
    "* set the title and labels for x and y axis;\n",
    "* make bins size not so wide;\n",
    "* show it.\n",
    "\n",
    "> Please, note: you can get more information about histogram [here](https://matplotlib.org/stable/api/_as_gen/matplotlib.pyplot.hist.html)."
   ]
  },
  {
   "cell_type": "code",
   "execution_count": null,
   "metadata": {
    "ExecuteTime": {
     "end_time": "2023-07-07T12:57:36.966131Z",
     "start_time": "2023-07-07T12:57:36.923563Z"
    },
    "collapsed": false,
    "jupyter": {
     "outputs_hidden": false
    }
   },
   "outputs": [],
   "source": [
    "data = np.random.normal(0, 1, 1000)\n",
    "\n",
    "plt.hist(data, bins=100)\n",
    "plt.title(\"Histogram\")\n",
    "plt.xlabel(\"Value\")\n",
    "plt.ylabel(\"Count\")\n",
    "plt.show()\n"
   ]
  },
  {
   "cell_type": "markdown",
   "metadata": {
    "collapsed": false,
    "jupyter": {
     "outputs_hidden": false
    }
   },
   "source": [
    "# Task 5 Pie plot\n",
    "\n",
    "You have lists of `labels` and `market_share`, complete the following tasks:\n",
    "* create a pie plot;\n",
    "* set the title;\n",
    "* make numbers in format like `10.0%`;\n",
    "* set the start angle for better view;\n",
    "* show it.\n",
    "\n",
    "> Please, note: you can get more information about pie plot [here](https://matplotlib.org/stable/gallery/pie_and_polar_charts/pie_features.html)."
   ]
  },
  {
   "cell_type": "code",
   "execution_count": null,
   "metadata": {
    "ExecuteTime": {
     "end_time": "2023-07-07T12:59:33.557461Z",
     "start_time": "2023-07-07T12:59:33.546332Z"
    },
    "collapsed": false,
    "jupyter": {
     "outputs_hidden": false
    }
   },
   "outputs": [],
   "source": [
    "labels = [\"Product A\", \"Product B\", \"Product C\", \"Product D\"]\n",
    "market_share = [30, 20, 15, 35]\n",
    "\n",
    "plt.pie(market_share, labels=labels, startangle=90, autopct=\"%1.1f%%\")\n",
    "plt.title(\"Market Shares\")\n",
    "plt.show()"
   ]
  },
  {
   "cell_type": "markdown",
   "metadata": {
    "collapsed": false,
    "jupyter": {
     "outputs_hidden": false
    }
   },
   "source": [
    "# Task 6 Subplots\n",
    "\n",
    "You have sin and cos functions, complete the following tasks:\n",
    "\n",
    "* create a figure with 2 subplots;\n",
    "* plot sin function in the first subplot;\n",
    "* plot cos function in the second subplot;\n",
    "* set the title and labels for x and y axis for each subplot;\n",
    "* set the title for the figure;\n",
    "* set different colors for each plot;\n",
    "* show it horizontally.\n",
    "\n",
    "> PLease, note: you can get more information about subplots [here](https://matplotlib.org/stable/gallery/subplots_axes_and_figures/subplots_demo.html)."
   ]
  },
  {
   "cell_type": "code",
   "execution_count": null,
   "metadata": {
    "ExecuteTime": {
     "end_time": "2023-07-07T13:06:18.164655Z",
     "start_time": "2023-07-07T13:06:18.135609Z"
    },
    "collapsed": false,
    "jupyter": {
     "outputs_hidden": false
    }
   },
   "outputs": [],
   "source": [
    "x = np.linspace(0, 5, 100)\n",
    "y1 = np.sin(x)\n",
    "y2 = np.cos(x)\n",
    "\n",
    "fig, (ax1, ax2) = plt.subplots(1, 2)\n",
    "fig.suptitle(\"Simple Plot\")\n",
    "ax1.plot(x, y1, \"g\")\n",
    "ax1.title.set_text(\"Plot 1\")\n",
    "ax1.set_xlabel(\"x-axis\")\n",
    "ax1.set_ylabel(\"y-axis\")\n",
    "ax2.plot(x, y2, \"b\")\n",
    "ax2.title.set_text(\"Plot 2\")\n",
    "ax2.set_xlabel(\"x-axis\")\n",
    "ax2.set_ylabel(\"y-axis\")\n",
    "plt.show()\n"
   ]
  },
  {
   "cell_type": "markdown",
   "metadata": {
    "collapsed": false,
    "jupyter": {
     "outputs_hidden": false
    }
   },
   "source": [
    "# Task 7 Time Series\n",
    "\n",
    "You have prepared data for time series, complete the following tasks:\n",
    "\n",
    "* create a line plot;\n",
    "* set the title and labels for x and y axis;\n",
    "* rotate x ticks by 45 degrees;\n",
    "* show it.\n",
    "\n",
    "> Please, note: you can get more information about time series [here](https://pandas.pydata.org/pandas-docs/stable/user_guide/timeseries.html)."
   ]
  },
  {
   "cell_type": "code",
   "execution_count": null,
   "metadata": {
    "ExecuteTime": {
     "end_time": "2023-07-07T13:14:23.477527Z",
     "start_time": "2023-07-07T13:14:23.411604Z"
    },
    "collapsed": false,
    "jupyter": {
     "outputs_hidden": false
    }
   },
   "outputs": [],
   "source": [
    "dates = pd.date_range(\"2023-01-01\", \"2023-12-31\", freq=\"D\")\n",
    "values = pd.Series(range(len(dates)), index=dates)\n",
    "\n",
    "plt.figure(figsize=(10, 5))\n",
    "plt.plot(values)\n",
    "plt.title(\"Plot 1\")\n",
    "plt.xlabel(\"Date\")\n",
    "plt.ylabel(\"Value\")\n",
    "plt.xticks(rotation=45)\n",
    "plt.show()"
   ]
  },
  {
   "cell_type": "markdown",
   "metadata": {
    "collapsed": false,
    "jupyter": {
     "outputs_hidden": false
    }
   },
   "source": [
    "# (Optional) Task 8 Surface 3D Plot\n",
    "\n",
    "You have prepared data for 3D surface plot, complete the following tasks:\n",
    "* create a figure;\n",
    "* add a subplot for 3D surface plot;\n",
    "* plot the surface, `cmap` can be `viridis`;\n",
    "* set the title and labels for x, y and z axis;\n",
    "* show it.\n",
    "\n",
    "> Please, note: you can get more information about 3D surface plot [here](https://matplotlib.org/stable/gallery/mplot3d/surface3d.html)."
   ]
  },
  {
   "cell_type": "code",
   "execution_count": null,
   "metadata": {
    "ExecuteTime": {
     "end_time": "2023-07-07T13:14:32.708967Z",
     "start_time": "2023-07-07T13:14:32.671257Z"
    },
    "collapsed": false,
    "jupyter": {
     "outputs_hidden": false
    }
   },
   "outputs": [],
   "source": [
    "x = np.linspace(-5, 5, 100)\n",
    "y = np.linspace(-5, 5, 100)\n",
    "X, Y = np.meshgrid(x, y)\n",
    "Z = X**2 + Y**2\n",
    "\n",
    "fig, ax = plt.subplots(subplot_kw={\"projection\": \"3d\"})\n",
    "ax.plot_surface(X, Y, Z, cmap=\"viridis\")\n",
    "ax.title.set_text(\"3D Plot\")\n",
    "ax.set_xlabel(\"x-axis\")\n",
    "ax.set_ylabel(\"y-axis\")\n",
    "ax.set_zlabel(\"z-axis\")\n",
    "plt.show()"
   ]
  },
  {
   "cell_type": "markdown",
   "metadata": {
    "collapsed": false,
    "jupyter": {
     "outputs_hidden": false
    }
   },
   "source": [
    "# (Optional) Task 9\n",
    "\n",
    "You are working for a retail company that wants to understand its customer base better. The company has collected various demographic and purchasing behavior data for a sample of customers. Your task is to create a scatter plot matrix to visualize the relationships between different variables and identify potential customer segments based on their characteristics. The scatter plot matrix will allow you to observe the pairwise relationships between multiple variables simultaneously.\n",
    "\n",
    "> Please, note: you can find the file with data in the `data` folder."
   ]
  }
 ],
 "metadata": {
  "kernelspec": {
   "display_name": "Python 3 (ipykernel)",
   "language": "python",
   "name": "python3"
  },
  "language_info": {
   "codemirror_mode": {
    "name": "ipython",
    "version": 3
   },
   "file_extension": ".py",
   "mimetype": "text/x-python",
   "name": "python",
   "nbconvert_exporter": "python",
   "pygments_lexer": "ipython3",
   "version": "3.12.3"
  }
 },
 "nbformat": 4,
 "nbformat_minor": 4
}
