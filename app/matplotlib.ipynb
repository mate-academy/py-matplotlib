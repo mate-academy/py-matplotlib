{
 "cells": [
  {
   "cell_type": "markdown",
   "source": [
    "# Matplotlib"
   ],
   "metadata": {
    "collapsed": false
   }
  },
  {
   "cell_type": "code",
   "execution_count": 2,
   "outputs": [],
   "source": [
    "import matplotlib.pyplot as plt\n",
    "import numpy as np\n",
    "import pandas as pd\n",
    "\n",
    "%matplotlib inline"
   ],
   "metadata": {
    "collapsed": false,
    "ExecuteTime": {
     "end_time": "2024-04-20T14:40:58.416528300Z",
     "start_time": "2024-04-20T14:40:56.585351100Z"
    }
   }
  },
  {
   "cell_type": "markdown",
   "source": [
    "# Task 1 Line plot\n",
    "\n",
    "You have lists of `years` and `population`, complete the following tasks:\n",
    "* create a line plot;\n",
    "* set the title and labels for x and y axis;\n",
    "* set the title for the plot;\n",
    "* show it.\n",
    "\n",
    "> Please, note: you can get more information about line plot [here](https://matplotlib.org/stable/api/_as_gen/matplotlib.pyplot.plot.html)."
   ],
   "metadata": {
    "collapsed": false
   }
  },
  {
   "cell_type": "code",
   "execution_count": 35,
   "metadata": {
    "collapsed": true,
    "ExecuteTime": {
     "end_time": "2024-04-20T15:45:22.529603Z",
     "start_time": "2024-04-20T15:45:22.498252400Z"
    }
   },
   "outputs": [],
   "source": [
    "years = [2015, 2016, 2017, 2018, 2019]\n",
    "population = [100, 120, 150, 180, 200]\n",
    "\n",
    "# write your code here\n",
    "plt.figure(figsize=(14, 6))\n",
    "plt.plot(years, population)\n",
    "plt.gca().set(xlabel=\"Year\", ylabel=\"Population\", title=\"Population Over Years\")\n",
    "plt.show()"
   ]
  },
  {
   "cell_type": "markdown",
   "source": [
    "# Task 2 Scatter plot\n",
    "\n",
    "You have random data for `x` and `y`. Also, you have random `colors` and `sizes` for each point.\n",
    "\n",
    "Complete the following tasks:\n",
    "* create a scatter plot;\n",
    "* fill the plot with colors;\n",
    "* fill the plot with sizes;\n",
    "* set the title and labels for x and y axis;\n",
    "* set the colorbar label;\n",
    "* show it.\n",
    "\n",
    "> Please, note: you can get more information about scatter plot [here](https://matplotlib.org/stable/api/_as_gen/matplotlib.pyplot.scatter.html)."
   ],
   "metadata": {
    "collapsed": false
   }
  },
  {
   "cell_type": "code",
   "execution_count": 35,
   "outputs": [],
   "source": [
    "x = np.random.rand(50)\n",
    "y = np.random.rand(50)\n",
    "colors = np.random.rand(50)\n",
    "sizes = 100 * np.random.rand(50)\n",
    "\n",
    "plt.figure(figsize=(14, 6))\n",
    "plt.scatter(x, y, c=colors, s=sizes, alpha=0.5, cmap=\"viridis\")\n",
    "plt.gca().set(xlabel=\"X\", ylabel=\"Y\", title=\"Scatter Plot\")\n",
    "\n",
    "plt.colorbar(label=\"Color scale\")\n",
    "\n",
    "plt.show()"
   ],
   "metadata": {
    "collapsed": false,
    "ExecuteTime": {
     "end_time": "2024-04-20T15:45:47.374794400Z",
     "start_time": "2024-04-20T15:45:47.365297200Z"
    }
   }
  },
  {
   "cell_type": "markdown",
   "source": [
    "# Task 3 Bar plot\n",
    "\n",
    "You have lists of `categories` and `sales`, complete the following tasks:\n",
    "* create a bar plot;\n",
    "* set the title and labels for x and y axis;\n",
    "* rate the x ticks by 45 degrees;\n",
    "* show it.\n",
    "\n",
    "> Please, note: you can get more information about bar plot [here](https://matplotlib.org/stable/api/_as_gen/matplotlib.pyplot.bar.html)."
   ],
   "metadata": {
    "collapsed": false
   }
  },
  {
   "cell_type": "code",
   "execution_count": 35,
   "outputs": [],
   "source": [
    "categories = [\"Category A\", \"Category B\", \"Category C\", \"Category D\"]\n",
    "sales = [350, 480, 210, 590]\n",
    "\n",
    "plt.figure(figsize=(14, 6))\n",
    "plt.bar(categories, sales)\n",
    "plt.gca().set(xlabel=\"categories\", ylabel=\"sales\", title=\"Sales by Category\")\n",
    "plt.xticks(rotation=45)\n",
    "plt.show()\n"
   ],
   "metadata": {
    "collapsed": false,
    "ExecuteTime": {
     "end_time": "2024-04-20T15:46:02.062845700Z",
     "start_time": "2024-04-20T15:46:02.015717400Z"
    }
   }
  },
  {
   "cell_type": "markdown",
   "source": [
    "# Task 4 Histogram\n",
    "\n",
    "You have randomly generated data, complete the following tasks:\n",
    "\n",
    "* create a histogram;\n",
    "* set the title and labels for x and y axis;\n",
    "* make bins size not so wide;\n",
    "* show it.\n",
    "\n",
    "> Please, note: you can get more information about histogram [here](https://matplotlib.org/stable/api/_as_gen/matplotlib.pyplot.hist.html)."
   ],
   "metadata": {
    "collapsed": false
   }
  },
  {
   "cell_type": "code",
   "execution_count": 35,
   "outputs": [],
   "source": [
    "data = np.random.normal(0, 1, 1000)\n",
    "\n",
    "plt.figure(figsize=(14, 6))\n",
    "plt.hist(data, bins=100, histtype=\"bar\", color=\"gray\", edgecolor=\"white\")\n",
    "plt.gca().set(xlabel=\"Value\", ylabel=\"Frequency\", title=\"Histogram\")\n",
    "plt.show()\n"
   ],
   "metadata": {
    "collapsed": false,
    "ExecuteTime": {
     "end_time": "2024-04-20T15:46:14.393909600Z",
     "start_time": "2024-04-20T15:46:14.318867300Z"
    }
   }
  },
  {
   "cell_type": "markdown",
   "source": [
    "# Task 5 Pie plot\n",
    "\n",
    "You have lists of `labels` and `market_share`, complete the following tasks:\n",
    "* create a pie plot;\n",
    "* set the title;\n",
    "* make numbers in format like `10.0%`;\n",
    "* set the start angle for better view;\n",
    "* show it.\n",
    "\n",
    "> Please, note: you can get more information about pie plot [here](https://matplotlib.org/stable/gallery/pie_and_polar_charts/pie_features.html)."
   ],
   "metadata": {
    "collapsed": false
   }
  },
  {
   "cell_type": "code",
   "execution_count": 35,
   "outputs": [],
   "source": [
    "labels = [\"Product A\", \"Product B\", \"Product C\", \"Product D\"]\n",
    "market_share = [30, 20, 15, 35]\n",
    "\n",
    "# write your code here\n",
    "plt.figure(figsize=(14, 6))\n",
    "plt.pie(market_share, labels=labels, autopct=\"%1.1f%%\", startangle=140)\n",
    "plt.show()"
   ],
   "metadata": {
    "collapsed": false,
    "ExecuteTime": {
     "end_time": "2024-04-20T15:46:23.250604900Z",
     "start_time": "2024-04-20T15:46:23.213967100Z"
    }
   }
  },
  {
   "cell_type": "markdown",
   "source": [
    "# Task 6 Subplots\n",
    "\n",
    "You have sin and cos functions, complete the following tasks:\n",
    "\n",
    "* create a figure with 2 subplots;\n",
    "* plot sin function in the first subplot;\n",
    "* plot cos function in the second subplot;\n",
    "* set the title and labels for x and y axis for each subplot;\n",
    "* set the title for the figure;\n",
    "* set different colors for each plot;\n",
    "* show it horizontally.\n",
    "\n",
    "> PLease, note: you can get more information about subplots [here](https://matplotlib.org/stable/gallery/subplots_axes_and_figures/subplots_demo.html)."
   ],
   "metadata": {
    "collapsed": false
   }
  },
  {
   "cell_type": "code",
   "execution_count": 35,
   "outputs": [],
   "source": [
    "x = np.linspace(0, 5, 100)\n",
    "y1 = np.sin(x)\n",
    "y2 = np.cos(x)\n",
    "\n",
    "fig, axs = plt.subplots(1, 2, figsize=(10, 4))\n",
    "\n",
    "axs[0].plot(x, y1, color=\"blue\")\n",
    "axs[0].set(xlabel=\"x\", ylabel=\"sin(x)\", title=\"Sin(x)\")\n",
    "\n",
    "axs[1].plot(x, y2, color=\"red\")\n",
    "axs[1].set(xlabel=\"x\", ylabel=\"cos(x)\", title=\"Cos(x)\")\n",
    "\n",
    "fig.suptitle(\"Sin and Cos Functions\")\n",
    "\n",
    "plt.show()"
   ],
   "metadata": {
    "collapsed": false,
    "ExecuteTime": {
     "end_time": "2024-04-20T15:46:31.602380Z",
     "start_time": "2024-04-20T15:46:31.582689200Z"
    }
   }
  },
  {
   "cell_type": "markdown",
   "source": [
    "# Task 7 Time Series\n",
    "\n",
    "You have prepared data for time series, complete the following tasks:\n",
    "\n",
    "* create a line plot;\n",
    "* set the title and labels for x and y axis;\n",
    "* rotate x ticks by 45 degrees;\n",
    "* show it.\n",
    "\n",
    "> Please, note: you can get more information about time series [here](https://pandas.pydata.org/pandas-docs/stable/user_guide/timeseries.html)."
   ],
   "metadata": {
    "collapsed": false
   }
  },
  {
   "cell_type": "code",
   "execution_count": 35,
   "outputs": [],
   "source": [
    "dates = pd.date_range(\"2023-01-01\", \"2023-12-31\", freq=\"D\")\n",
    "values = pd.Series(range(len(dates)), index=dates)\n",
    "\n",
    "plt.figure(figsize=(14, 6))\n",
    "plt.plot(values)\n",
    "plt.gca().set(xlabel=\"Date\", ylabel=\"Value\", title=\"Time Series Plot\")\n",
    "plt.xticks(rotation=45)\n",
    "\n",
    "plt.show()"
   ],
   "metadata": {
    "collapsed": false,
    "ExecuteTime": {
     "end_time": "2024-04-20T15:46:43.441765200Z",
     "start_time": "2024-04-20T15:46:43.433098600Z"
    }
   }
  },
  {
   "cell_type": "markdown",
   "source": [
    "# (Optional) Task 8 Surface 3D Plot\n",
    "\n",
    "You have prepared data for 3D surface plot, complete the following tasks:\n",
    "* create a figure;\n",
    "* add a subplot for 3D surface plot;\n",
    "* plot the surface, `cmap` can be `viridis`;\n",
    "* set the title and labels for x, y and z axis;\n",
    "* show it.\n",
    "\n",
    "> Please, note: you can get more information about 3D surface plot [here](https://matplotlib.org/stable/gallery/mplot3d/surface3d.html)."
   ],
   "metadata": {
    "collapsed": false
   }
  },
  {
   "cell_type": "code",
   "execution_count": 14,
   "outputs": [],
   "source": [
    "x = np.linspace(-5, 5, 100)\n",
    "y = np.linspace(-5, 5, 100)\n",
    "X, Y = np.meshgrid(x, y)\n",
    "Z = X**2 + Y**2\n",
    "\n",
    "# write your code here\n"
   ],
   "metadata": {
    "collapsed": false,
    "ExecuteTime": {
     "end_time": "2023-07-07T13:14:32.708967Z",
     "start_time": "2023-07-07T13:14:32.671257Z"
    }
   }
  },
  {
   "cell_type": "markdown",
   "source": [
    "# (Optional) Task 9\n",
    "\n",
    "You are working for a retail company that wants to understand its customer base better. The company has collected various demographic and purchasing behavior data for a sample of customers. Your task is to create a scatter plot matrix to visualize the relationships between different variables and identify potential customer segments based on their characteristics. The scatter plot matrix will allow you to observe the pairwise relationships between multiple variables simultaneously.\n",
    "\n",
    "> Please, note: you can find the file with data in the `data` folder."
   ],
   "metadata": {
    "collapsed": false
   }
  },
  {
   "cell_type": "code",
   "execution_count": 15,
   "outputs": [],
   "source": [
    "# write your code here\n"
   ],
   "metadata": {
    "collapsed": false,
    "ExecuteTime": {
     "end_time": "2023-07-07T13:32:10.318014Z",
     "start_time": "2023-07-07T13:32:10.281335Z"
    }
   }
  }
 ],
 "metadata": {
  "kernelspec": {
   "display_name": "Python 3",
   "language": "python",
   "name": "python3"
  },
  "language_info": {
   "codemirror_mode": {
    "name": "ipython",
    "version": 2
   },
   "file_extension": ".py",
   "mimetype": "text/x-python",
   "name": "python",
   "nbconvert_exporter": "python",
   "pygments_lexer": "ipython2",
   "version": "2.7.6"
  }
 },
 "nbformat": 4,
 "nbformat_minor": 0
}
