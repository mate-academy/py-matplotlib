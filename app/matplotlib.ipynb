{
 "cells": [
  {
   "cell_type": "markdown",
   "source": [
    "# Matplotlib"
   ],
   "metadata": {
    "collapsed": false
   }
  },
  {
   "cell_type": "code",
   "source": [
    "import matplotlib.pyplot as plt\n",
    "import numpy as np\n",
    "import pandas as pd\n",
    "\n",
    "%matplotlib inline"
   ],
   "metadata": {
    "collapsed": false
   },
   "outputs": [],
   "execution_count": null
  },
  {
   "cell_type": "markdown",
   "source": [
    "# Task 1 Line plot\n",
    "\n",
    "You have lists of `years` and `population`, complete the following tasks:\n",
    "* create a line plot;\n",
    "* set the title and labels for x and y axis;\n",
    "* set the title for the plot;\n",
    "* show it.\n",
    "\n",
    "> Please, note: you can get more information about line plot [here](https://matplotlib.org/stable/api/_as_gen/matplotlib.pyplot.plot.html)."
   ],
   "metadata": {
    "collapsed": false
   }
  },
  {
   "cell_type": "code",
   "metadata": {
    "collapsed": true
   },
   "source": [
    "years = [2015, 2016, 2017, 2018, 2019]\n",
    "population = [100, 120, 150, 180, 200]\n",
    "y = np.array(years)\n",
    "x = np.array(population)\n",
    "plt.figure(figsize=(10, 7))\n",
    "plt.title(\"Population to years\")\n",
    "plt.xlabel(\"population\")\n",
    "plt.ylabel(\"years\")\n",
    "plt.plot(x, y)\n",
    "plt.show()"
   ],
   "outputs": [],
   "execution_count": null
  },
  {
   "cell_type": "markdown",
   "source": [
    "# Task 2 Scatter plot\n",
    "\n",
    "You have random data for `x` and `y`. Also, you have random `colors` and `sizes` for each point.\n",
    "\n",
    "Complete the following tasks:\n",
    "* create a scatter plot;\n",
    "* fill the plot with colors;\n",
    "* fill the plot with sizes;\n",
    "* set the title and labels for x and y axis;\n",
    "* set the colorbar label;\n",
    "* show it.\n",
    "\n",
    "> Please, note: you can get more information about scatter plot [here](https://matplotlib.org/stable/api/_as_gen/matplotlib.pyplot.scatter.html)."
   ],
   "metadata": {
    "collapsed": false
   }
  },
  {
   "cell_type": "code",
   "source": [
    "x = np.random.rand(50)\n",
    "y = np.random.rand(50)\n",
    "colors = np.random.rand(50)\n",
    "sizes = 100 * np.random.rand(50)\n",
    "\n",
    "plt.figure(figsize=(10, 7))\n",
    "\n",
    "scatter = plt.scatter(x, y, c=colors, s=sizes)\n",
    "plt.title('Scatter Plot of Random Data')\n",
    "plt.xlabel('X-axis Label')\n",
    "plt.ylabel('Y-axis Label')\n",
    "\n",
    "cbar = plt.colorbar(scatter)\n",
    "cbar.set_label('Color Intensity')\n",
    "\n",
    "# Add a grid for better readability (optional)\n",
    "plt.grid(True, linestyle='--', alpha=0.6)\n",
    "\n",
    "# Show the plot\n",
    "plt.show()"
   ],
   "metadata": {
    "collapsed": false
   },
   "outputs": [],
   "execution_count": null
  },
  {
   "metadata": {},
   "cell_type": "markdown",
   "source": [
    "# Task 3 Bar plot\n",
    "\n",
    "You have lists of `categories` and `sales`, complete the following tasks:\n",
    "* create a bar plot;\n",
    "* set the title and labels for x and y axis;\n",
    "* rate the x ticks by 45 degrees;\n",
    "* show it.\n",
    "\n",
    "> Please, note: you can get more information about bar plot [here](https://matplotlib.org/stable/api/_as_gen/matplotlib.pyplot.bar.html)."
   ]
  },
  {
   "cell_type": "code",
   "source": [
    "categories = [\"Category A\", \"Category B\", \"Category C\", \"Category D\"]\n",
    "sales = [350, 480, 210, 590]\n",
    "\n",
    "bar = plt.bar(categories, sales)\n",
    "plt.title('Bar Plot of Categories and Sales')\n",
    "plt.xlabel('X-axis Label')\n",
    "plt.ylabel('Y-axis Label')\n",
    "plt.xticks(rotation=45, ha='right')\n",
    "\n",
    "plt.show()"
   ],
   "metadata": {
    "collapsed": false
   },
   "outputs": [],
   "execution_count": null
  },
  {
   "cell_type": "markdown",
   "source": [
    "# Task 4 Histogram\n",
    "\n",
    "You have randomly generated data, complete the following tasks:\n",
    "\n",
    "* create a histogram;\n",
    "* set the title and labels for x and y axis;\n",
    "* make bins size not so wide;\n",
    "* show it.\n",
    "\n",
    "> Please, note: you can get more information about histogram [here](https://matplotlib.org/stable/api/_as_gen/matplotlib.pyplot.hist.html)."
   ],
   "metadata": {
    "collapsed": false
   }
  },
  {
   "cell_type": "code",
   "source": [
    "data = np.random.normal(0, 1, 1000)\n",
    "\n",
    "color = plt.hist(data)\n",
    "plt.title('Histogram to data')\n",
    "plt.xlabel('X-axis Label')\n",
    "plt.ylabel('Y-axis Label')\n",
    "plt.grid(axis='y', alpha=0.75)\n",
    "\n",
    "plt.show()\n"
   ],
   "metadata": {
    "collapsed": false
   },
   "outputs": [],
   "execution_count": null
  },
  {
   "cell_type": "markdown",
   "source": [
    "# Task 5 Pie plot\n",
    "\n",
    "You have lists of `labels` and `market_share`, complete the following tasks:\n",
    "* create a pie plot;\n",
    "* set the title;\n",
    "* make numbers in format like `10.0%`;\n",
    "* set the start angle for better view;\n",
    "* show it.\n",
    "\n",
    "> Please, note: you can get more information about pie plot [here](https://matplotlib.org/stable/gallery/pie_and_polar_charts/pie_features.html)."
   ],
   "metadata": {
    "collapsed": false
   }
  },
  {
   "cell_type": "code",
   "source": [
    "labels = [\"Product A\", \"Product B\", \"Product C\", \"Product D\"]\n",
    "market_share = [30, 20, 15, 35]\n",
    "\n",
    "plt.figure(figsize=(9, 9))\n",
    "plt.pie(\n",
    "    market_share,\n",
    "    labels=labels,\n",
    "    autopct='%1.1f%%',\n",
    "    startangle=90,\n",
    "    pctdistance=0.85 # Distance of percentage labels from the center\n",
    ")\n",
    "\n",
    "plt.title('Smartphone Market Share Distribution', fontsize=16)\n",
    "\n",
    "plt.axis('equal')\n",
    "\n",
    "plt.show()"
   ],
   "metadata": {
    "collapsed": false
   },
   "outputs": [],
   "execution_count": null
  },
  {
   "cell_type": "markdown",
   "source": [
    "# Task 6 Subplots\n",
    "\n",
    "You have sin and cos functions, complete the following tasks:\n",
    "\n",
    "* create a figure with 2 subplots;\n",
    "* plot sin function in the first subplot;\n",
    "* plot cos function in the second subplot;\n",
    "* set the title and labels for x and y axis for each subplot;\n",
    "* set the title for the figure;\n",
    "* set different colors for each plot;\n",
    "* show it horizontally.\n",
    "\n",
    "> PLease, note: you can get more information about subplots [here](https://matplotlib.org/stable/gallery/subplots_axes_and_figures/subplots_demo.html)."
   ],
   "metadata": {
    "collapsed": false
   }
  },
  {
   "cell_type": "code",
   "source": [
    "x = np.linspace(0, 5, 100)\n",
    "y1 = np.sin(x)\n",
    "y2 = np.cos(x)\n",
    "\n",
    "fig, (ax1, ax2) = plt.subplots(1, 2, figsize=(12, 5))\n",
    "\n",
    "# --- First Subplot (sin function) ---\n",
    "ax1.plot(x, y1, color='blue') # Plot sin function with blue color\n",
    "ax1.set_title('Sine Function')\n",
    "ax1.set_xlabel('X-axis (Radians)')\n",
    "ax1.set_ylabel('Y-axis (Amplitude)')\n",
    "ax1.grid(True, linestyle='--', alpha=0.6) # Optional: add grid\n",
    "\n",
    "# --- Second Subplot (cos function) ---\n",
    "ax2.plot(x, y2, color='red') # Plot cos function with red color\n",
    "ax2.set_title('Cosine Function')\n",
    "ax2.set_xlabel('X-axis (Radians)')\n",
    "ax2.set_ylabel('Y-axis (Amplitude)')\n",
    "ax2.grid(True, linestyle='--', alpha=0.6) # Optional: add grid\n",
    "\n",
    "# Set the title for the entire figure\n",
    "fig.suptitle('Sine and Cosine Functions Subplots', fontsize=16)\n",
    "\n",
    "# Adjust layout to prevent titles/labels from overlapping\n",
    "plt.tight_layout(rect=[0, 0.03, 1, 0.95]) # Adjust rect to make space for suptitle\n",
    "\n",
    "# Show the plot\n",
    "plt.show()\n"
   ],
   "metadata": {
    "collapsed": false
   },
   "outputs": [],
   "execution_count": null
  },
  {
   "cell_type": "markdown",
   "source": [
    "# Task 7 Time Series\n",
    "\n",
    "You have prepared data for time series, complete the following tasks:\n",
    "\n",
    "* create a line plot;\n",
    "* set the title and labels for x and y axis;\n",
    "* rotate x ticks by 45 degrees;\n",
    "* show it.\n",
    "\n",
    "> Please, note: you can get more information about time series [here](https://pandas.pydata.org/pandas-docs/stable/user_guide/timeseries.html)."
   ],
   "metadata": {
    "collapsed": false
   }
  },
  {
   "cell_type": "code",
   "source": [
    "dates = pd.date_range(\"2023-01-01\", \"2023-12-31\", freq=\"D\")\n",
    "values = pd.Series(range(len(dates)), index=dates)\n",
    "\n",
    "plt.figure(figsize=(14, 7))\n",
    "plt.plot(values.index, values.values, color='purple', linewidth=2)\n",
    "plt.title('Daily Sales Trend Over Time', fontsize=16)\n",
    "plt.xlabel('Date', fontsize=12)\n",
    "plt.ylabel('Sales Value', fontsize=12)\n",
    "plt.xticks(rotation=45, ha='right') # 'ha' (horizontal alignment) helps avoid overlap\n",
    "\n",
    "plt.grid(True, linestyle='--', alpha=0.7)\n",
    "plt.show()\n"
   ],
   "metadata": {
    "collapsed": false
   },
   "outputs": [],
   "execution_count": null
  },
  {
   "cell_type": "markdown",
   "source": [
    "# (Optional) Task 8 Surface 3D Plot\n",
    "\n",
    "You have prepared data for 3D surface plot, complete the following tasks:\n",
    "* create a figure;\n",
    "* add a subplot for 3D surface plot;\n",
    "* plot the surface, `cmap` can be `viridis`;\n",
    "* set the title and labels for x, y and z axis;\n",
    "* show it.\n",
    "\n",
    "> Please, note: you can get more information about 3D surface plot [here](https://matplotlib.org/stable/gallery/mplot3d/surface3d.html)."
   ],
   "metadata": {
    "collapsed": false
   }
  },
  {
   "cell_type": "code",
   "source": [
    "x = np.linspace(-5, 5, 100)\n",
    "y = np.linspace(-5, 5, 100)\n",
    "X, Y = np.meshgrid(x, y)\n",
    "Z = X**2 + Y**2\n",
    "\n",
    "# write your code here\n"
   ],
   "metadata": {
    "collapsed": false
   },
   "outputs": [],
   "execution_count": null
  },
  {
   "cell_type": "markdown",
   "source": [
    "# (Optional) Task 9\n",
    "\n",
    "You are working for a retail company that wants to understand its customer base better. The company has collected various demographic and purchasing behavior data for a sample of customers. Your task is to create a scatter plot matrix to visualize the relationships between different variables and identify potential customer segments based on their characteristics. The scatter plot matrix will allow you to observe the pairwise relationships between multiple variables simultaneously.\n",
    "\n",
    "> Please, note: you can find the file with data in the `data` folder."
   ],
   "metadata": {
    "collapsed": false
   }
  },
  {
   "cell_type": "code",
   "source": [
    "# write your code here\n"
   ],
   "metadata": {
    "collapsed": false
   },
   "outputs": [],
   "execution_count": null
  }
 ],
 "metadata": {
  "kernelspec": {
   "display_name": "Python 3",
   "language": "python",
   "name": "python3"
  },
  "language_info": {
   "codemirror_mode": {
    "name": "ipython",
    "version": 2
   },
   "file_extension": ".py",
   "mimetype": "text/x-python",
   "name": "python",
   "nbconvert_exporter": "python",
   "pygments_lexer": "ipython2",
   "version": "2.7.6"
  }
 },
 "nbformat": 4,
 "nbformat_minor": 0
}
