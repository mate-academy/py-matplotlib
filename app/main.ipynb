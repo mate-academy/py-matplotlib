{
 "cells": [
  {
   "cell_type": "code",
   "id": "initial_id",
   "metadata": {
    "collapsed": true,
    "ExecuteTime": {
     "end_time": "2024-09-14T12:00:35.699222Z",
     "start_time": "2024-09-14T12:00:33.097179Z"
    }
   },
   "source": [
    "import pandas as pd\n",
    "data = {\n",
    "    'Name': ['Alice', 'Bob', 'Charlie', 'David', 'Eve', 'Tom'],\n",
    "    'Age': [25, 30, 35, 40, 45, 30],\n",
    "    'City': ['New York', 'San Francisco', 'Los Angeles', 'Chicago', 'Seattle', 'New York'],\n",
    "    'Salary': [60000, 65000, 70000, 75000, 80000, 90000],\n",
    "}\n",
    "df = pd.DataFrame(data)\n",
    "df = (df.sort_values(by='City', ascending=False))"
   ],
   "outputs": [],
   "execution_count": 1
  },
  {
   "metadata": {
    "ExecuteTime": {
     "end_time": "2024-09-14T12:00:39.901823Z",
     "start_time": "2024-09-14T12:00:39.868779Z"
    }
   },
   "cell_type": "code",
   "source": [
    "df = (df.sort_values(by='City', ascending=False))\n",
    "df"
   ],
   "id": "66f489d4458f1e38",
   "outputs": [
    {
     "data": {
      "text/plain": [
       "      Name  Age           City  Salary\n",
       "4      Eve   45        Seattle   80000\n",
       "1      Bob   30  San Francisco   65000\n",
       "0    Alice   25       New York   60000\n",
       "5      Tom   30       New York   90000\n",
       "2  Charlie   35    Los Angeles   70000\n",
       "3    David   40        Chicago   75000"
      ],
      "text/html": [
       "<div>\n",
       "<style scoped>\n",
       "    .dataframe tbody tr th:only-of-type {\n",
       "        vertical-align: middle;\n",
       "    }\n",
       "\n",
       "    .dataframe tbody tr th {\n",
       "        vertical-align: top;\n",
       "    }\n",
       "\n",
       "    .dataframe thead th {\n",
       "        text-align: right;\n",
       "    }\n",
       "</style>\n",
       "<table border=\"1\" class=\"dataframe\">\n",
       "  <thead>\n",
       "    <tr style=\"text-align: right;\">\n",
       "      <th></th>\n",
       "      <th>Name</th>\n",
       "      <th>Age</th>\n",
       "      <th>City</th>\n",
       "      <th>Salary</th>\n",
       "    </tr>\n",
       "  </thead>\n",
       "  <tbody>\n",
       "    <tr>\n",
       "      <th>4</th>\n",
       "      <td>Eve</td>\n",
       "      <td>45</td>\n",
       "      <td>Seattle</td>\n",
       "      <td>80000</td>\n",
       "    </tr>\n",
       "    <tr>\n",
       "      <th>1</th>\n",
       "      <td>Bob</td>\n",
       "      <td>30</td>\n",
       "      <td>San Francisco</td>\n",
       "      <td>65000</td>\n",
       "    </tr>\n",
       "    <tr>\n",
       "      <th>0</th>\n",
       "      <td>Alice</td>\n",
       "      <td>25</td>\n",
       "      <td>New York</td>\n",
       "      <td>60000</td>\n",
       "    </tr>\n",
       "    <tr>\n",
       "      <th>5</th>\n",
       "      <td>Tom</td>\n",
       "      <td>30</td>\n",
       "      <td>New York</td>\n",
       "      <td>90000</td>\n",
       "    </tr>\n",
       "    <tr>\n",
       "      <th>2</th>\n",
       "      <td>Charlie</td>\n",
       "      <td>35</td>\n",
       "      <td>Los Angeles</td>\n",
       "      <td>70000</td>\n",
       "    </tr>\n",
       "    <tr>\n",
       "      <th>3</th>\n",
       "      <td>David</td>\n",
       "      <td>40</td>\n",
       "      <td>Chicago</td>\n",
       "      <td>75000</td>\n",
       "    </tr>\n",
       "  </tbody>\n",
       "</table>\n",
       "</div>"
      ]
     },
     "execution_count": 2,
     "metadata": {},
     "output_type": "execute_result"
    }
   ],
   "execution_count": 2
  },
  {
   "metadata": {
    "ExecuteTime": {
     "end_time": "2024-09-14T12:00:41.958070Z",
     "start_time": "2024-09-14T12:00:41.950680Z"
    }
   },
   "cell_type": "code",
   "source": [
    "df = df.groupby(\"City\")[\"Salary\"].mean()\n",
    "df"
   ],
   "id": "d884e1a373827fec",
   "outputs": [
    {
     "data": {
      "text/plain": [
       "City\n",
       "Chicago          75000.0\n",
       "Los Angeles      70000.0\n",
       "New York         75000.0\n",
       "San Francisco    65000.0\n",
       "Seattle          80000.0\n",
       "Name: Salary, dtype: float64"
      ]
     },
     "execution_count": 3,
     "metadata": {},
     "output_type": "execute_result"
    }
   ],
   "execution_count": 3
  }
 ],
 "metadata": {
  "kernelspec": {
   "display_name": "Python 3",
   "language": "python",
   "name": "python3"
  },
  "language_info": {
   "codemirror_mode": {
    "name": "ipython",
    "version": 2
   },
   "file_extension": ".py",
   "mimetype": "text/x-python",
   "name": "python",
   "nbconvert_exporter": "python",
   "pygments_lexer": "ipython2",
   "version": "2.7.6"
  }
 },
 "nbformat": 4,
 "nbformat_minor": 5
}
